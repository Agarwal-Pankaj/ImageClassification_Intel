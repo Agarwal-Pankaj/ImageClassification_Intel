{
 "cells": [
  {
   "cell_type": "markdown",
   "metadata": {},
   "source": [
    "# Import libraries"
   ]
  },
  {
   "cell_type": "code",
   "execution_count": 4,
   "metadata": {},
   "outputs": [],
   "source": [
    "import numpy as np\n",
    "import pandas as pd\n",
    "import tensorflow as tf\n",
    "import os\n",
    "import numpy as np\n",
    "import shutil, os\n",
    "import datetime\n",
    "import NodeLookup as lookup"
   ]
  },
  {
   "cell_type": "code",
   "execution_count": 1,
   "metadata": {},
   "outputs": [],
   "source": [
    "df = pd.read_csv(\"data/train.csv\")"
   ]
  },
  {
   "cell_type": "markdown",
   "metadata": {},
   "source": [
    "# Creates folders for defferent categories categorized images from train data"
   ]
  },
  {
   "cell_type": "code",
   "execution_count": 2,
   "metadata": {},
   "outputs": [],
   "source": [
    "for index, row in df.iterrows():\n",
    "    print (row[\"image_name\"], row[\"label\"])\n",
    "    if row[\"label\"] == 0:\n",
    "        shutil.copy('train/'+ row[\"image_name\"], 'train/0')\n",
    "    if row[\"label\"] == 1:\n",
    "        shutil.copy('train/'+ row[\"image_name\"], 'train/1')\n",
    "    if row[\"label\"] == 2:\n",
    "        shutil.copy('train/'+ row[\"image_name\"], 'train/2')\n",
    "    if row[\"label\"] == 3:\n",
    "        shutil.copy('train/'+ row[\"image_name\"], 'train/3')\n",
    "    if row[\"label\"] == 4:\n",
    "        shutil.copy('train/'+ row[\"image_name\"], 'train/4')\n",
    "    if row[\"label\"] == 5:\n",
    "        shutil.copy('train/'+ row[\"image_name\"], 'train/5')  "
   ]
  },
  {
   "cell_type": "markdown",
   "metadata": {},
   "source": [
    "# Use pretrained model from Tensorflow hub"
   ]
  },
  {
   "cell_type": "code",
   "execution_count": 5,
   "metadata": {},
   "outputs": [],
   "source": [
    "# python retrain.py --tfhub_module  https://tfhub.dev/google/imagenet/inception_v3/classification/1 --image_dir train"
   ]
  },
  {
   "cell_type": "code",
   "execution_count": null,
   "metadata": {},
   "outputs": [],
   "source": [
    "model_dir = 'imagenet'\n",
    "read_mode = 'rb'\n",
    "saved_graph = 'output_graph.pb'\n",
    "label_path = 'output_labels.text'\n",
    "graph_name = 'ImageNet'\n",
    "softmax_tensor_name = graph_name + '/final_result:0'\n",
    "image_tensor_name = graph_name + '/Placeholder:0'\n",
    "log_path = 'logs' "
   ]
  },
  {
   "cell_type": "markdown",
   "metadata": {},
   "source": [
    "# Function to read image and convert to tensor"
   ]
  },
  {
   "cell_type": "code",
   "execution_count": null,
   "metadata": {},
   "outputs": [],
   "source": [
    "def read_tensor_from_image_file(file_name,\n",
    "                                input_height=331,\n",
    "                                input_width=331,\n",
    "                                input_mean=0,\n",
    "                                input_std=255):\n",
    "    input_name = \"file_reader\"\n",
    "    output_name = \"normalized\"\n",
    "    file_reader = tf.read_file(file_name, input_name)\n",
    "    if file_name.endswith(\".png\"):\n",
    "        image_reader = tf.image.decode_png(\n",
    "        file_reader, channels=3, name=\"png_reader\")\n",
    "    elif file_name.endswith(\".gif\"):\n",
    "        image_reader = tf.squeeze(\n",
    "        tf.image.decode_gif(file_reader, name=\"gif_reader\"))\n",
    "    elif file_name.endswith(\".bmp\"):\n",
    "        image_reader = tf.image.decode_bmp(file_reader, name=\"bmp_reader\")\n",
    "    else:\n",
    "        image_reader = tf.image.decode_jpeg(\n",
    "        file_reader, channels=3, name=\"jpeg_reader\")\n",
    "\n",
    "\n",
    "    float_caster = tf.cast(image_reader, tf.float32)\n",
    "\n",
    "    dims_expander = tf.expand_dims(float_caster, 0)\n",
    "    resized = tf.image.resize_bilinear(dims_expander, [input_height, input_width])\n",
    "    normalized = tf.divide(tf.subtract(resized, [input_mean]), [input_std])\n",
    "    config = tf.ConfigProto()\n",
    "    config.gpu_options.allow_growth = True\n",
    "    sess = tf.Session(config=config)\n",
    "    result = sess.run(normalized)\n",
    "\n",
    "    return result"
   ]
  },
  {
   "cell_type": "code",
   "execution_count": null,
   "metadata": {},
   "outputs": [],
   "source": [
    "submitdf = pd.read_csv(\"data\\sample_submission_CH2mq5Z.csv\")"
   ]
  },
  {
   "cell_type": "code",
   "execution_count": null,
   "metadata": {},
   "outputs": [],
   "source": [
    "num_predictions = 1"
   ]
  },
  {
   "cell_type": "markdown",
   "metadata": {},
   "source": [
    "# Read trained model "
   ]
  },
  {
   "cell_type": "code",
   "execution_count": null,
   "metadata": {},
   "outputs": [],
   "source": [
    "with tf.gfile.GFile(saved_graph, read_mode) as graphFile:\n",
    "    graph_def = tf.GraphDef()\n",
    "    graph_def.ParseFromString(graphFile.read())\n",
    "    _ = tf.import_graph_def(graph_def,name=graph_name)\n",
    "    print('loaded model')\n",
    "config = tf.ConfigProto()\n",
    "config.gpu_options.allow_growth = True"
   ]
  },
  {
   "cell_type": "markdown",
   "metadata": {},
   "source": [
    "# Make Predictions"
   ]
  },
  {
   "cell_type": "code",
   "execution_count": null,
   "metadata": {},
   "outputs": [],
   "source": [
    "with tf.Session(config=config) as session:\n",
    "    file_writer = tf.summary.FileWriter(log_path,session.graph)\n",
    "    softmax_tensor = session.graph.get_tensor_by_name(softmax_tensor_name)\n",
    "    \n",
    "    for index, row in submitdf.iterrows():\n",
    "        image_path = 'train/'+row[\"image_name\"]\n",
    "        image_data = read_tensor_from_image_file(image_path ,input_height=299,\n",
    "                                input_width=299)\n",
    "        \n",
    "        image_tensor =  { image_tensor_name:image_data }\n",
    "        predictions = session.run(softmax_tensor, image_tensor)\n",
    "        predictions = np.squeeze(predictions)\n",
    "        top_predictions = predictions.argsort()[-num_predictions:][::-1]\n",
    "        for prediction in top_predictions:\n",
    "            score = predictions[prediction]\n",
    "            submitdf.at[index,'label'] = prediction\n",
    "            print (row[\"image_name\"], prediction)\n",
    "            #print('{} == {:.2%}'.format(prediction,score))\n",
    "        submitdf.to_csv(\"submission_part2.csv\",index=False)"
   ]
  }
 ],
 "metadata": {
  "kernelspec": {
   "display_name": "Python 3",
   "language": "python",
   "name": "python3"
  },
  "language_info": {
   "codemirror_mode": {
    "name": "ipython",
    "version": 3
   },
   "file_extension": ".py",
   "mimetype": "text/x-python",
   "name": "python",
   "nbconvert_exporter": "python",
   "pygments_lexer": "ipython3",
   "version": "3.6.8"
  }
 },
 "nbformat": 4,
 "nbformat_minor": 2
}
